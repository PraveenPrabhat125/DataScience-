{
  "nbformat": 4,
  "nbformat_minor": 0,
  "metadata": {
    "colab": {
      "provenance": []
    },
    "kernelspec": {
      "name": "python3",
      "display_name": "Python 3"
    },
    "language_info": {
      "name": "python"
    }
  },
  "cells": [
    {
      "cell_type": "markdown",
      "source": [
        "**Python Programming**"
      ],
      "metadata": {
        "id": "aFR_C8qkVwx1"
      }
    },
    {
      "cell_type": "markdown",
      "source": [
        "1. Data types and Variables"
      ],
      "metadata": {
        "id": "m0IvcmUkWAe6"
      }
    },
    {
      "cell_type": "code",
      "execution_count": 2,
      "metadata": {
        "colab": {
          "base_uri": "https://localhost:8080/"
        },
        "id": "T89gk6BUVr7X",
        "outputId": "64ae780b-1bb1-4a82-84b1-38ef34ac9db1"
      },
      "outputs": [
        {
          "output_type": "stream",
          "name": "stdout",
          "text": [
            "True\n",
            "7\n",
            "7.22\n",
            "InternBix\n"
          ]
        }
      ],
      "source": [
        "#Boolean\n",
        "is_true = True\n",
        "\n",
        "#Integer\n",
        "integer_val = 7\n",
        "\n",
        "# Float\n",
        "float_val = 7.22\n",
        "\n",
        "#String\n",
        "string_val = \"InternBix\"\n",
        "\n",
        "#print(\"use to print\")\n",
        "print(is_true)\n",
        "print(integer_val)\n",
        "print(float_val)\n",
        "print(string_val)"
      ]
    },
    {
      "cell_type": "markdown",
      "source": [
        "**Operation**"
      ],
      "metadata": {
        "id": "6QVshOjfXfs5"
      }
    },
    {
      "cell_type": "markdown",
      "source": [
        "Arithmetic operators"
      ],
      "metadata": {
        "id": "SXgR7U0LXnwC"
      }
    },
    {
      "cell_type": "code",
      "source": [
        "# Arithmetic operators\n",
        "a = 5 + 3\n",
        "b = 10 - 2\n",
        "c = 4 * 2\n",
        "d = 10 / 3\n",
        "e = 5 % 2"
      ],
      "metadata": {
        "id": "3XL476aIXj8i"
      },
      "execution_count": 3,
      "outputs": []
    },
    {
      "cell_type": "markdown",
      "source": [
        "Comparison operators\n"
      ],
      "metadata": {
        "id": "VHIzDPrxXqBp"
      }
    },
    {
      "cell_type": "code",
      "source": [
        "result1 = 5 > 3\n",
        "result2 = 10 <= 5\n",
        "result3 = 4 == 4\n",
        "result4 = 2 != 3\n",
        "\n"
      ],
      "metadata": {
        "id": "J0Rx3uxUXtGL"
      },
      "execution_count": 4,
      "outputs": []
    },
    {
      "cell_type": "markdown",
      "source": [
        "Logical operators"
      ],
      "metadata": {
        "id": "2O1F5ZrYXvU7"
      }
    },
    {
      "cell_type": "code",
      "source": [
        "result5 = True and False\n",
        "result6 = True or False\n",
        "result7 = not True"
      ],
      "metadata": {
        "id": "8yIc16lIX1aE"
      },
      "execution_count": 5,
      "outputs": []
    },
    {
      "cell_type": "markdown",
      "source": [
        "# Flow and loops"
      ],
      "metadata": {
        "id": "vkwcoVG1X3xw"
      }
    },
    {
      "cell_type": "code",
      "source": [
        "var = 10\n",
        "if var > 5:\n",
        "  print('var is greater then 5')\n",
        "else:\n",
        "  print(\"var is lesser then 5\")"
      ],
      "metadata": {
        "colab": {
          "base_uri": "https://localhost:8080/"
        },
        "id": "jqpQQ8aEX9QS",
        "outputId": "dc431c5a-ed94-43a7-edbc-b4ea92e35967"
      },
      "execution_count": 6,
      "outputs": [
        {
          "output_type": "stream",
          "name": "stdout",
          "text": [
            "var is greater then 5\n"
          ]
        }
      ]
    },
    {
      "cell_type": "markdown",
      "source": [
        "# For loops"
      ],
      "metadata": {
        "id": "YXeXZaYiYLRP"
      }
    },
    {
      "cell_type": "code",
      "source": [
        "# For loops\n",
        "names = ['John', 'Sen', 'Rock']\n",
        "\n",
        "for name in names:\n",
        "  print(name)"
      ],
      "metadata": {
        "colab": {
          "base_uri": "https://localhost:8080/"
        },
        "id": "gtjw8z5GYKOg",
        "outputId": "613b230f-8947-49be-e44f-ebfa9d73f31b"
      },
      "execution_count": 7,
      "outputs": [
        {
          "output_type": "stream",
          "name": "stdout",
          "text": [
            "John\n",
            "Sen\n",
            "Rock\n"
          ]
        }
      ]
    },
    {
      "cell_type": "markdown",
      "source": [
        "# While loop"
      ],
      "metadata": {
        "id": "lfCZwYK6Y39j"
      }
    },
    {
      "cell_type": "code",
      "source": [
        "#while loop\n",
        "count = 0\n",
        "\n",
        "#All even numbers\n",
        "while count < 10:\n",
        "  print(count + 2)\n",
        "  count = count + 2 # this is break statement. which increases at eachiteration\n",
        "\n"
      ],
      "metadata": {
        "colab": {
          "base_uri": "https://localhost:8080/"
        },
        "id": "V_mDAl9fYetT",
        "outputId": "9d04c448-b51b-4927-bb65-6db9a7ea64a6"
      },
      "execution_count": 9,
      "outputs": [
        {
          "output_type": "stream",
          "name": "stdout",
          "text": [
            "2\n",
            "4\n",
            "6\n",
            "8\n",
            "10\n"
          ]
        }
      ]
    },
    {
      "cell_type": "markdown",
      "source": [
        "# Function"
      ],
      "metadata": {
        "id": "eX_rachlY9fR"
      }
    },
    {
      "cell_type": "code",
      "source": [
        "# Function Defination\n",
        "def funct(list_val):\n",
        "  for val in list_val:\n",
        "    print(val + 2)\n",
        "\n",
        "\n",
        "# Calling function\n",
        "list_val = [ 2,3,4,5,6]\n",
        "\n",
        "# increase each list value y 2\n",
        "funct(list_val)"
      ],
      "metadata": {
        "colab": {
          "base_uri": "https://localhost:8080/"
        },
        "id": "-CjdQnx4Y3NE",
        "outputId": "082e085d-c4c3-4b5f-9ccf-2c970b37c270"
      },
      "execution_count": 12,
      "outputs": [
        {
          "output_type": "stream",
          "name": "stdout",
          "text": [
            "4\n",
            "5\n",
            "6\n",
            "7\n",
            "8\n"
          ]
        }
      ]
    },
    {
      "cell_type": "markdown",
      "source": [
        "#List"
      ],
      "metadata": {
        "id": "bZ8nsmbEZmWI"
      }
    },
    {
      "cell_type": "code",
      "source": [
        "fruits = [\"apple\", \"banana\", \"orange\"]\n",
        "\n",
        "#append to add any new value\n",
        "fruits.append('mango')\n",
        "\n",
        "print(fruits)\n",
        "\n",
        "\n",
        "for items in fruits:\n",
        "  print(items)"
      ],
      "metadata": {
        "colab": {
          "base_uri": "https://localhost:8080/"
        },
        "id": "_h6ZqbadZns7",
        "outputId": "6a185d6c-28a5-4790-d75a-ed4ad086b827"
      },
      "execution_count": 16,
      "outputs": [
        {
          "output_type": "stream",
          "name": "stdout",
          "text": [
            "['apple', 'banana', 'orange', 'mango']\n",
            "apple\n",
            "banana\n",
            "orange\n",
            "mango\n"
          ]
        }
      ]
    },
    {
      "cell_type": "markdown",
      "source": [
        "# Dictonary"
      ],
      "metadata": {
        "id": "f742_4GxZ9IJ"
      }
    },
    {
      "cell_type": "code",
      "source": [
        "Employee = {'name': \"Sumit\", \"age\": 23, \"City\": 'Mumbai', 'Role': 'DS'}\n",
        "\n",
        "for items in Employee:\n",
        "  print(items, \": \", Employee[items])"
      ],
      "metadata": {
        "colab": {
          "base_uri": "https://localhost:8080/"
        },
        "id": "YMtwO_3MZ-3f",
        "outputId": "716654c2-7cf9-493d-ddee-f479d94cc3ba"
      },
      "execution_count": 20,
      "outputs": [
        {
          "output_type": "stream",
          "name": "stdout",
          "text": [
            "name :  Sumit\n",
            "age :  23\n",
            "City :  Mumbai\n",
            "Role :  DS\n"
          ]
        }
      ]
    },
    {
      "cell_type": "markdown",
      "source": [
        "# String"
      ],
      "metadata": {
        "id": "-yoO_ZYEafzs"
      }
    },
    {
      "cell_type": "code",
      "source": [
        "name = \"Intern Bix\"\n",
        "print(name)\n",
        "\n",
        "print(name[:]) # all element\n",
        "print(name[2:]) # from 2nd element\n",
        "print(name[2:6]) # from 2nd  till 6th element\n",
        "\n"
      ],
      "metadata": {
        "colab": {
          "base_uri": "https://localhost:8080/"
        },
        "id": "wZ_gddZUahag",
        "outputId": "a6326ad4-f63e-44de-db9a-0fba86e79670"
      },
      "execution_count": 26,
      "outputs": [
        {
          "output_type": "stream",
          "name": "stdout",
          "text": [
            "Intern Bix\n",
            "Intern Bix\n",
            "tern Bix\n",
            "tern\n"
          ]
        }
      ]
    },
    {
      "cell_type": "markdown",
      "source": [
        "# Input and Output"
      ],
      "metadata": {
        "id": "_Qt5gX4NbPpL"
      }
    },
    {
      "cell_type": "code",
      "source": [
        "io_name = input(\"Enter your name: \")\n",
        "print(\"Welcome, \" + io_name + \" to internBix!\")"
      ],
      "metadata": {
        "colab": {
          "base_uri": "https://localhost:8080/"
        },
        "id": "P2l1TZwUa0Zx",
        "outputId": "5b523fe3-40ce-4d93-867d-bc71d312d2f0"
      },
      "execution_count": 29,
      "outputs": [
        {
          "output_type": "stream",
          "name": "stdout",
          "text": [
            "Enter your name: Sumit\n",
            "Welcome, Sumit to internBix!\n"
          ]
        }
      ]
    },
    {
      "cell_type": "markdown",
      "source": [
        "# Error Handeling"
      ],
      "metadata": {
        "id": "7BaptY-YbVAT"
      }
    },
    {
      "cell_type": "code",
      "source": [
        "try:\n",
        "  result = 1/0\n",
        "except ZeroDivisionError:\n",
        "  print(\"Error: can't divide by zero.\")"
      ],
      "metadata": {
        "colab": {
          "base_uri": "https://localhost:8080/"
        },
        "id": "UgeJi9TMbOUA",
        "outputId": "f6e46c83-ac5f-44f8-9be8-f9cd54ce26e4"
      },
      "execution_count": 31,
      "outputs": [
        {
          "output_type": "stream",
          "name": "stdout",
          "text": [
            "Error: can't divide by zero.\n"
          ]
        }
      ]
    },
    {
      "cell_type": "code",
      "source": [],
      "metadata": {
        "id": "fV1YpsCKn25_"
      },
      "execution_count": null,
      "outputs": []
    },
    {
      "cell_type": "markdown",
      "source": [
        "# Module and Libraries"
      ],
      "metadata": {
        "id": "MWqGXvszb1J4"
      }
    },
    {
      "cell_type": "code",
      "source": [
        "import math\n",
        "\n",
        "val = math.sqrt(2)\n",
        "print(val)"
      ],
      "metadata": {
        "colab": {
          "base_uri": "https://localhost:8080/"
        },
        "id": "p827ozP6b5Xx",
        "outputId": "e7befc69-12c8-44ca-b320-661b3b3d0f42"
      },
      "execution_count": 32,
      "outputs": [
        {
          "output_type": "stream",
          "name": "stdout",
          "text": [
            "1.4142135623730951\n"
          ]
        }
      ]
    },
    {
      "cell_type": "markdown",
      "source": [
        "List of operation from the math library"
      ],
      "metadata": {
        "id": "PxmMtNUacQJJ"
      }
    },
    {
      "cell_type": "code",
      "source": [
        "import math\n",
        "\n",
        "# Trigonometric Functions\n",
        "angle = math.pi/4\n",
        "sin_value = math.sin(angle)\n",
        "cos_value = math.cos(angle)\n",
        "tan_value = math.tan(angle)\n",
        "\n",
        "print(\"sin:\", sin_value)\n",
        "print(\"cos:\", cos_value)\n",
        "print(\"tan:\", tan_value)\n",
        "\n",
        "# Exponential and Logarithmic Functions\n",
        "x = 2\n",
        "exp_value = math.exp(x)\n",
        "log_value = math.log(x)\n",
        "log10_value = math.log10(x)\n",
        "\n",
        "print(\"exp:\", exp_value)\n",
        "print(\"log:\", log_value)\n",
        "print(\"log10:\", log10_value)\n",
        "\n",
        "# Mathematical Constants\n",
        "print(\"pi:\", math.pi)\n",
        "print(\"e:\", math.e)\n",
        "\n",
        "# Other Mathematical Operations\n",
        "sqrt_value = math.sqrt(16)\n",
        "ceil_value = math.ceil(3.7)\n",
        "floor_value = math.floor(3.7)\n",
        "factorial_value = math.factorial(5)\n",
        "\n",
        "print(\"sqrt:\", sqrt_value)\n",
        "print(\"ceil:\", ceil_value)\n",
        "print(\"floor:\", floor_value)\n",
        "print(\"factorial:\", factorial_value)\n"
      ],
      "metadata": {
        "colab": {
          "base_uri": "https://localhost:8080/"
        },
        "id": "3gCwHBmDcRpq",
        "outputId": "58ae77e2-5907-4f3b-c347-adde43d87c42"
      },
      "execution_count": 33,
      "outputs": [
        {
          "output_type": "stream",
          "name": "stdout",
          "text": [
            "sin: 0.7071067811865475\n",
            "cos: 0.7071067811865476\n",
            "tan: 0.9999999999999999\n",
            "exp: 7.38905609893065\n",
            "log: 0.6931471805599453\n",
            "log10: 0.3010299956639812\n",
            "pi: 3.141592653589793\n",
            "e: 2.718281828459045\n",
            "sqrt: 4.0\n",
            "ceil: 4\n",
            "floor: 3\n",
            "factorial: 120\n"
          ]
        }
      ]
    }
  ]
}