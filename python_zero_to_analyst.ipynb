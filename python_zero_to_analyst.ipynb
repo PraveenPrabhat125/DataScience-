{
  "nbformat": 4,
  "nbformat_minor": 0,
  "metadata": {
    "colab": {
      "provenance": [],
      "authorship_tag": "ABX9TyPhz9/P3bgaVK/DdkYMsr0c",
      "include_colab_link": true
    },
    "kernelspec": {
      "name": "python3",
      "display_name": "Python 3"
    },
    "language_info": {
      "name": "python"
    }
  },
  "cells": [
    {
      "cell_type": "markdown",
      "metadata": {
        "id": "view-in-github",
        "colab_type": "text"
      },
      "source": [
        "<a href=\"https://colab.research.google.com/github/PraveenPrabhat125/DataScience-/blob/main/python_zero_to_analyst.ipynb\" target=\"_parent\"><img src=\"https://colab.research.google.com/assets/colab-badge.svg\" alt=\"Open In Colab\"/></a>"
      ]
    },
    {
      "cell_type": "markdown",
      "source": [
        "### Types"
      ],
      "metadata": {
        "id": "10w6AcaSduX7"
      }
    },
    {
      "cell_type": "code",
      "execution_count": 2,
      "metadata": {
        "colab": {
          "base_uri": "https://localhost:8080/"
        },
        "id": "R1D4LhxYdokW",
        "outputId": "700435c6-bb68-48a5-9995-7d267ce30b5c"
      },
      "outputs": [
        {
          "output_type": "execute_result",
          "data": {
            "text/plain": [
              "int"
            ]
          },
          "metadata": {},
          "execution_count": 2
        }
      ],
      "source": [
        "type(1)"
      ]
    },
    {
      "cell_type": "code",
      "source": [
        "type(-10)"
      ],
      "metadata": {
        "colab": {
          "base_uri": "https://localhost:8080/"
        },
        "id": "XhMddRpfdzNU",
        "outputId": "1d757365-fe05-4686-8162-853192531655"
      },
      "execution_count": 3,
      "outputs": [
        {
          "output_type": "execute_result",
          "data": {
            "text/plain": [
              "int"
            ]
          },
          "metadata": {},
          "execution_count": 3
        }
      ]
    },
    {
      "cell_type": "code",
      "source": [
        "type(10.2)"
      ],
      "metadata": {
        "colab": {
          "base_uri": "https://localhost:8080/"
        },
        "id": "2T3ltFoqd2Q_",
        "outputId": "991bb432-2405-4da7-ca85-0f09647b6099"
      },
      "execution_count": 4,
      "outputs": [
        {
          "output_type": "execute_result",
          "data": {
            "text/plain": [
              "float"
            ]
          },
          "metadata": {},
          "execution_count": 4
        }
      ]
    },
    {
      "cell_type": "code",
      "source": [
        "type(4e2)"
      ],
      "metadata": {
        "colab": {
          "base_uri": "https://localhost:8080/"
        },
        "id": "K1ueHQvEd217",
        "outputId": "60d45162-eaef-4159-9a0b-d883ad79c23b"
      },
      "execution_count": 5,
      "outputs": [
        {
          "output_type": "execute_result",
          "data": {
            "text/plain": [
              "float"
            ]
          },
          "metadata": {},
          "execution_count": 5
        }
      ]
    },
    {
      "cell_type": "markdown",
      "source": [
        "## Arithmatic"
      ],
      "metadata": {
        "id": "e4IbiGuZeANp"
      }
    },
    {
      "cell_type": "code",
      "source": [
        "# Addition\n",
        "print('Addition: ', 10 + 6)\n",
        "\n",
        "# Substraction\n",
        "print('Substraction: ', 10 - 6)\n",
        "\n",
        "# Multiplication\n",
        "print('Multiplication: ', 10 * 6)\n",
        "\n",
        "# Division\n",
        "print('Division: ', 10 / 6)\n",
        "\n",
        "# Floor division\n",
        "print('Floor division : ', 10 // 6)\n",
        "\n",
        "# Reminder\n",
        "print('Reminder: ', 10 %  6)"
      ],
      "metadata": {
        "colab": {
          "base_uri": "https://localhost:8080/"
        },
        "id": "39RDMz0id_4i",
        "outputId": "4e28cb8d-eb86-4678-e160-518cd707cddf"
      },
      "execution_count": 9,
      "outputs": [
        {
          "output_type": "stream",
          "name": "stdout",
          "text": [
            "Addition:  16\n",
            "Substraction:  4\n",
            "Multiplication:  60\n",
            "Division:  1.6666666666666667\n",
            "Floor division :  1\n",
            "Reminder:  4\n"
          ]
        }
      ]
    },
    {
      "cell_type": "markdown",
      "source": [
        "## Baisc Function"
      ],
      "metadata": {
        "id": "yHyreXI7eso6"
      }
    },
    {
      "cell_type": "code",
      "source": [
        "# pow\n",
        "print('pow: ', pow(10,3))\n",
        "\n",
        "# abs\n",
        "print('abs: ', abs(-10.3))\n",
        "\n",
        "# round\n",
        "print('Round: ', round(10.5324))\n",
        "\n",
        "# round -  to nth digit\n",
        "print('Round: ', round(10.23124, 2))\n",
        "\n",
        "# bin - binary formt\n",
        "print('bin: ', bin(512))\n",
        "\n",
        "# hex formt\n",
        "print('hex formt: ', hex(512))\n"
      ],
      "metadata": {
        "colab": {
          "base_uri": "https://localhost:8080/"
        },
        "id": "FXLWCFjNer6a",
        "outputId": "d7c6ff35-84c1-4a62-d2c1-b767e7f9fa30"
      },
      "execution_count": 15,
      "outputs": [
        {
          "output_type": "stream",
          "name": "stdout",
          "text": [
            "pow:  1000\n",
            "abs:  10.3\n",
            "Round:  11\n",
            "Round:  10.23\n",
            "bin:  0b1000000000\n",
            "hex formt:  0x200\n"
          ]
        }
      ]
    },
    {
      "cell_type": "markdown",
      "source": [
        "## Converting str to no"
      ],
      "metadata": {
        "id": "cGcXLc86fa1W"
      }
    },
    {
      "cell_type": "code",
      "source": [
        "# age will be in str format\n",
        "age = input('Enter your age: ')\n",
        "print(age)\n",
        "print(type(age))\n",
        "\n",
        "\n",
        "# convert this to int\n",
        "print(int(age))\n",
        "print(age)\n",
        "print(type(age))"
      ],
      "metadata": {
        "colab": {
          "base_uri": "https://localhost:8080/"
        },
        "id": "Py8HU2LNfdWK",
        "outputId": "7e6bebc5-001a-49c3-fbdd-7a375fac9a0d"
      },
      "execution_count": 18,
      "outputs": [
        {
          "output_type": "stream",
          "name": "stdout",
          "text": [
            "Enter your age: 23\n",
            "23\n",
            "<class 'str'>\n",
            "23\n",
            "23\n",
            "<class 'str'>\n"
          ]
        }
      ]
    },
    {
      "cell_type": "markdown",
      "source": [
        "## Strings"
      ],
      "metadata": {
        "id": "1IZxilGzf4y2"
      }
    },
    {
      "cell_type": "code",
      "source": [
        "type('Hello buddy') # str\n",
        "\n",
        "name = 'Intern Bix'\n",
        "print(name[1]) # n\n",
        "print(name[:]) # Intern Bix\n",
        "print(name[1:]) # ntern Bix\n",
        "print(name[:4]) # Inte\n",
        "\n",
        "print(name[-2]) # i\n",
        "\n",
        "print(name[::]) # Intern Bix\n",
        "print(name[::1]) # Intern Bix\n",
        "\n",
        "print(name[::-1]) # xiB nretnI\n",
        "print(name[0:10:2]) # Itr i  -- [ start : end : step ]\n",
        "\n",
        "\n",
        "print(name + ' ', 'Hello')\n",
        "\n",
        "\n"
      ],
      "metadata": {
        "colab": {
          "base_uri": "https://localhost:8080/"
        },
        "id": "wJ92mXgwf6rM",
        "outputId": "8ec2e4b0-0636-49b1-fd29-1e8de57a7f9e"
      },
      "execution_count": 31,
      "outputs": [
        {
          "output_type": "stream",
          "name": "stdout",
          "text": [
            "n\n",
            "Intern Bix\n",
            "ntern Bix\n",
            "Inte\n",
            "i\n",
            "Intern Bix\n",
            "Intern Bix\n",
            "xiB nretnI\n",
            "Itr i\n",
            "Intern Bix  Hello\n"
          ]
        }
      ]
    },
    {
      "cell_type": "markdown",
      "source": [
        "## String basic function"
      ],
      "metadata": {
        "id": "fs25exsoiTmb"
      }
    },
    {
      "cell_type": "code",
      "source": [
        "print(len('InternBix'))\n",
        "\n",
        "# Basic method\n",
        "'  i am good'.strip() # 'I am alone' --> Strips all whitespace characters from both ends.\n",
        "\n",
        "'but way is different !'.split() # ['but', 'way', 'is', 'different', '!']\n",
        "\n",
        "str = 'Help me'\n",
        "str.replace('me', 'you')\n",
        "\n",
        "print(str.startswith('Help'))\n",
        "\n",
        "print(str.endswith('Help'))\n",
        "\n",
        "print(str.upper())\n",
        "\n",
        "print(str.lower())\n",
        "\n",
        "\n",
        "print(str.capitalize())\n",
        "\n",
        "print(str.count('e'))"
      ],
      "metadata": {
        "colab": {
          "base_uri": "https://localhost:8080/"
        },
        "id": "mZQV-RbSiTMi",
        "outputId": "b13480d1-e2ff-43fe-b51c-056c0cabc02c"
      },
      "execution_count": 44,
      "outputs": [
        {
          "output_type": "stream",
          "name": "stdout",
          "text": [
            "9\n",
            "True\n",
            "False\n",
            "HELP ME\n",
            "help me\n",
            "Help me\n",
            "2\n"
          ]
        }
      ]
    },
    {
      "cell_type": "markdown",
      "source": [
        "# String formating"
      ],
      "metadata": {
        "id": "JaNYEevOjU6d"
      }
    },
    {
      "cell_type": "code",
      "source": [
        "name1 = 'Intern'\n",
        "name2 = 'Bix'\n",
        "\n",
        "print(name1 + ' ' + name2)\n",
        "\n",
        "print(f'Fillname : {name2} and {name1}')\n",
        "\n",
        "print('Hello there:  {} and  {}'.format(name1, name2))"
      ],
      "metadata": {
        "colab": {
          "base_uri": "https://localhost:8080/"
        },
        "id": "kHbIAbowjXv-",
        "outputId": "e90021fd-286c-428a-e77d-ff6b5e6ada5b"
      },
      "execution_count": 51,
      "outputs": [
        {
          "output_type": "stream",
          "name": "stdout",
          "text": [
            "Intern Bix\n",
            "Fillname : Bix and Intern\n",
            "Hello there:  Intern and  Bix\n"
          ]
        }
      ]
    },
    {
      "cell_type": "markdown",
      "source": [
        "# Palindrome check"
      ],
      "metadata": {
        "id": "XW_GkW9_kAn7"
      }
    },
    {
      "cell_type": "code",
      "source": [
        "word = 'ratar'\n",
        "\n",
        "check = bool(word.find(word[::-1]) + 1)\n",
        "print(check)"
      ],
      "metadata": {
        "colab": {
          "base_uri": "https://localhost:8080/"
        },
        "id": "5qg4wDKikC0T",
        "outputId": "e038b5a5-fdeb-40ad-ccb6-65cbc3205ce5"
      },
      "execution_count": 59,
      "outputs": [
        {
          "output_type": "stream",
          "name": "stdout",
          "text": [
            "True\n"
          ]
        }
      ]
    },
    {
      "cell_type": "markdown",
      "source": [
        "## List"
      ],
      "metadata": {
        "id": "cUi9CFo6kn3T"
      }
    },
    {
      "cell_type": "code",
      "source": [
        "my_list  = [1,2, '3', 'Bix', None, True]\n",
        "\n",
        "print(len(my_list))\n",
        "\n",
        "print(my_list.index(2)) # '2' is not in list\n",
        "\n",
        "print(my_list[:])\n",
        "print(my_list[1:3:])\n",
        "\n",
        "print(my_list[::-1])\n",
        "print(my_list[-1])\n",
        "print(my_list[0:4:2])\n",
        "\n",
        "\n",
        "## Add to list\n",
        "my_list = my_list * 2\n",
        "print(my_list[:])\n",
        "\n",
        "\n",
        "my_list = my_list + [100]\n",
        "print(my_list[:])\n",
        "\n",
        "my_list.append(300)\n",
        "print(my_list[:])\n",
        "\n",
        "my_list.insert(2, 600)\n",
        "print(my_list[:])\n",
        "\n",
        "\n",
        "my_list.extend([45, 23])\n",
        "print(my_list[:])\n",
        "\n"
      ],
      "metadata": {
        "colab": {
          "base_uri": "https://localhost:8080/"
        },
        "id": "Hwwxi95ck2Fq",
        "outputId": "1f84ddfc-7664-42dc-f558-443270f32a0e"
      },
      "execution_count": 81,
      "outputs": [
        {
          "output_type": "stream",
          "name": "stdout",
          "text": [
            "6\n",
            "1\n",
            "[1, 2, '3', 'Bix', None, True]\n",
            "[2, '3']\n",
            "[True, None, 'Bix', '3', 2, 1]\n",
            "True\n",
            "[1, '3']\n",
            "[1, 2, '3', 'Bix', None, True, 1, 2, '3', 'Bix', None, True]\n",
            "[1, 2, '3', 'Bix', None, True, 1, 2, '3', 'Bix', None, True, 100]\n",
            "[1, 2, '3', 'Bix', None, True, 1, 2, '3', 'Bix', None, True, 100, 300]\n",
            "[1, 2, 600, '3', 'Bix', None, True, 1, 2, '3', 'Bix', None, True, 100, 300]\n",
            "[1, 2, 600, '3', 'Bix', None, True, 1, 2, '3', 'Bix', None, True, 100, 300, 45, 23]\n"
          ]
        }
      ]
    },
    {
      "cell_type": "markdown",
      "source": [
        "### Copy list and remove from list"
      ],
      "metadata": {
        "id": "e6aZ_6gSmRnr"
      }
    },
    {
      "cell_type": "code",
      "source": [
        "print('Shallow Copy')\n",
        "bucket1 = ['Pankaj', 'Golu', 'Sumit']\n",
        "\n",
        "new_bkt1 = bucket1\n",
        "\n",
        "new_bkt1.insert(2, 'shallo copy')\n",
        "\n",
        "print(bucket1)\n",
        "print(new_bkt1)\n",
        "\n",
        "\n",
        "print('Deep Copy')\n",
        "bucket = ['Pankaj', 'Golu', 'Sumit']\n",
        "\n",
        "new_bkt = bucket.copy()\n",
        "\n",
        "new_bkt.insert(2, 'Deep copy')\n",
        "\n",
        "print(bucket)\n",
        "print(new_bkt)"
      ],
      "metadata": {
        "colab": {
          "base_uri": "https://localhost:8080/"
        },
        "id": "rGslP8y6mVSf",
        "outputId": "cf09e904-cc43-4032-c51e-e155830968ca"
      },
      "execution_count": 90,
      "outputs": [
        {
          "output_type": "stream",
          "name": "stdout",
          "text": [
            "Shallow Copy\n",
            "['Pankaj', 'Golu', 'shallo copy', 'Sumit']\n",
            "['Pankaj', 'Golu', 'shallo copy', 'Sumit']\n",
            "Deep Copy\n",
            "['Pankaj', 'Golu', 'Sumit']\n",
            "['Pankaj', 'Golu', 'Deep copy', 'Sumit']\n"
          ]
        }
      ]
    },
    {
      "cell_type": "markdown",
      "source": [
        "## Remove elemet form list"
      ],
      "metadata": {
        "id": "1ys7mSgMnuFB"
      }
    },
    {
      "cell_type": "code",
      "source": [
        "new_bkt.pop()"
      ],
      "metadata": {
        "colab": {
          "base_uri": "https://localhost:8080/",
          "height": 35
        },
        "id": "BSvuj0Gwnp2U",
        "outputId": "660b969c-0f94-4034-c994-2efb3a0a5df4"
      },
      "execution_count": 91,
      "outputs": [
        {
          "output_type": "execute_result",
          "data": {
            "text/plain": [
              "'Sumit'"
            ],
            "application/vnd.google.colaboratory.intrinsic+json": {
              "type": "string"
            }
          },
          "metadata": {},
          "execution_count": 91
        }
      ]
    },
    {
      "cell_type": "code",
      "source": [
        "new_bkt.remove('Golu')"
      ],
      "metadata": {
        "id": "UrjVa5ChnsIO"
      },
      "execution_count": 92,
      "outputs": []
    },
    {
      "cell_type": "code",
      "source": [
        "print(new_bkt)"
      ],
      "metadata": {
        "colab": {
          "base_uri": "https://localhost:8080/"
        },
        "id": "Z7V0x9S_n-j3",
        "outputId": "e2c60b8a-5c8e-4d59-9950-2885c21486aa"
      },
      "execution_count": 93,
      "outputs": [
        {
          "output_type": "stream",
          "name": "stdout",
          "text": [
            "['Pankaj', 'Deep copy']\n"
          ]
        }
      ]
    },
    {
      "cell_type": "code",
      "source": [
        "new_bkt.clear()\n",
        "print(new_bkt)"
      ],
      "metadata": {
        "colab": {
          "base_uri": "https://localhost:8080/"
        },
        "id": "US4aWlj6oAmf",
        "outputId": "8b882ad5-345a-4c1e-ce9e-309f77af7536"
      },
      "execution_count": 95,
      "outputs": [
        {
          "output_type": "stream",
          "name": "stdout",
          "text": [
            "[]\n"
          ]
        }
      ]
    },
    {
      "cell_type": "code",
      "source": [
        "num_list = [1,-1,5,-12,2]\n",
        "\n",
        "print(num_list)\n",
        "\n",
        "num_list = list(num_list.sort())\n",
        "print(num_list.sort())"
      ],
      "metadata": {
        "colab": {
          "base_uri": "https://localhost:8080/",
          "height": 211
        },
        "id": "we3PhCq3oEWa",
        "outputId": "fb554fce-a2f9-4232-d683-2559ae45be4e"
      },
      "execution_count": 100,
      "outputs": [
        {
          "output_type": "stream",
          "name": "stdout",
          "text": [
            "[1, -1, 5, -12, 2]\n"
          ]
        },
        {
          "output_type": "error",
          "ename": "TypeError",
          "evalue": "'NoneType' object is not iterable",
          "traceback": [
            "\u001b[0;31m---------------------------------------------------------------------------\u001b[0m",
            "\u001b[0;31mTypeError\u001b[0m                                 Traceback (most recent call last)",
            "\u001b[0;32m<ipython-input-100-1c7a6f14cbf7>\u001b[0m in \u001b[0;36m<cell line: 5>\u001b[0;34m()\u001b[0m\n\u001b[1;32m      3\u001b[0m \u001b[0mprint\u001b[0m\u001b[0;34m(\u001b[0m\u001b[0mnum_list\u001b[0m\u001b[0;34m)\u001b[0m\u001b[0;34m\u001b[0m\u001b[0;34m\u001b[0m\u001b[0m\n\u001b[1;32m      4\u001b[0m \u001b[0;34m\u001b[0m\u001b[0m\n\u001b[0;32m----> 5\u001b[0;31m \u001b[0mnum_list\u001b[0m \u001b[0;34m=\u001b[0m \u001b[0mlist\u001b[0m\u001b[0;34m(\u001b[0m\u001b[0mnum_list\u001b[0m\u001b[0;34m.\u001b[0m\u001b[0msort\u001b[0m\u001b[0;34m(\u001b[0m\u001b[0;34m)\u001b[0m\u001b[0;34m)\u001b[0m\u001b[0;34m\u001b[0m\u001b[0;34m\u001b[0m\u001b[0m\n\u001b[0m\u001b[1;32m      6\u001b[0m \u001b[0mprint\u001b[0m\u001b[0;34m(\u001b[0m\u001b[0mnum_list\u001b[0m\u001b[0;34m.\u001b[0m\u001b[0msort\u001b[0m\u001b[0;34m(\u001b[0m\u001b[0;34m)\u001b[0m\u001b[0;34m)\u001b[0m\u001b[0;34m\u001b[0m\u001b[0;34m\u001b[0m\u001b[0m\n",
            "\u001b[0;31mTypeError\u001b[0m: 'NoneType' object is not iterable"
          ]
        }
      ]
    },
    {
      "cell_type": "markdown",
      "source": [
        "### Min, max, in"
      ],
      "metadata": {
        "id": "LqbR1kKGojNw"
      }
    },
    {
      "cell_type": "code",
      "source": [
        "print(1 in num_list)\n",
        "\n",
        "\n",
        "print(max(num_list))\n",
        "print(min(num_list))\n",
        "print(sum(num_list))"
      ],
      "metadata": {
        "colab": {
          "base_uri": "https://localhost:8080/"
        },
        "id": "AjZkHvFrol07",
        "outputId": "8f50c3fe-4bf8-4eab-c7fc-fd29d2384166"
      },
      "execution_count": 104,
      "outputs": [
        {
          "output_type": "stream",
          "name": "stdout",
          "text": [
            "True\n",
            "5\n",
            "-12\n",
            "-5\n"
          ]
        }
      ]
    },
    {
      "cell_type": "markdown",
      "source": [
        "## matrix"
      ],
      "metadata": {
        "id": "oAnWc_1io_f0"
      }
    },
    {
      "cell_type": "code",
      "source": [
        "matrix  = [[1,2,3], [4,5,6], [10,12,112], [-1,-11,12]]\n",
        "\n",
        "print(matrix)\n",
        "print(matrix[2][0])\n",
        "\n",
        "len(matrix) # row\n",
        "len(matrix[0]) # col\n",
        "#Looping through row and col\n",
        "for rw in range(len(matrix)):\n",
        "  for col in range(len(matrix[0])):\n",
        "    print(matrix[rw][col])\n",
        "  print(' ')"
      ],
      "metadata": {
        "colab": {
          "base_uri": "https://localhost:8080/"
        },
        "id": "U0Lvg7GcpCeO",
        "outputId": "eb5290c1-9167-467f-87d5-3f1e98616dc2"
      },
      "execution_count": 115,
      "outputs": [
        {
          "output_type": "stream",
          "name": "stdout",
          "text": [
            "[[1, 2, 3], [4, 5, 6], [10, 12, 112], [-1, -11, 12]]\n",
            "10\n",
            "1\n",
            "2\n",
            "3\n",
            " \n",
            "4\n",
            "5\n",
            "6\n",
            " \n",
            "10\n",
            "12\n",
            "112\n",
            " \n",
            "-1\n",
            "-11\n",
            "12\n",
            " \n"
          ]
        }
      ]
    },
    {
      "cell_type": "markdown",
      "source": [
        "## List comprenhension"
      ],
      "metadata": {
        "id": "gIeBkns5qU8P"
      }
    },
    {
      "cell_type": "code",
      "source": [
        "a  = [i for i in 'hello']\n",
        "print(a)\n",
        "\n",
        "\n",
        "b  = [x* 2for x in [1,2,3]]\n",
        "print(b)\n",
        "\n",
        "num_list = []\n",
        "for x in range(10):\n",
        "  if(x % 2 == 0):\n",
        "    num_list.append(x)\n",
        "print(num_list)\n",
        "\n",
        "\n",
        "c = [ x for x in range(1, 20) if x % 2 == 0]\n",
        "print(c)"
      ],
      "metadata": {
        "colab": {
          "base_uri": "https://localhost:8080/"
        },
        "id": "Y35PVYS1qW43",
        "outputId": "0ca86a5b-2e1a-4a0e-9458-dc38f0149926"
      },
      "execution_count": 129,
      "outputs": [
        {
          "output_type": "stream",
          "name": "stdout",
          "text": [
            "['h', 'e', 'l', 'l', 'o']\n",
            "[2, 4, 6]\n",
            "[0, 2, 4, 6, 8]\n",
            "[2, 4, 6, 8, 10, 12, 14, 16, 18]\n"
          ]
        }
      ]
    },
    {
      "cell_type": "markdown",
      "source": [
        "## Dictionaries"
      ],
      "metadata": {
        "id": "WvJPdUSHrxyA"
      }
    },
    {
      "cell_type": "code",
      "source": [
        "my_dict =  {'name':'Intern Bix', 'age': 3, 'power': 'vanish'}\n",
        "\n",
        "print(my_dict)\n",
        "\n",
        "print(my_dict['name'])\n",
        "print(my_dict['age'])\n",
        "print(my_dict['power'])\n",
        "\n",
        "print(len(my_dict))\n",
        "print(list[my_dict.keys()])\n",
        "print(list[my_dict.values()])\n",
        "print(list[my_dict.items()])\n",
        "\n",
        "# add new featrure\n",
        "my_dict['Time'] = 30\n",
        "\n",
        "print(my_dict)\n",
        "print(my_dict.get('age'))\n",
        "print(my_dict.get('age1', 0))\n",
        "\n",
        "#remove key\n",
        "del my_dict['name']\n",
        "my_dict\n",
        "\n",
        "# dictionary comprehension\n",
        "{for key, value in my_dict.items}"
      ],
      "metadata": {
        "colab": {
          "base_uri": "https://localhost:8080/"
        },
        "id": "dO6yhtezpHtC",
        "outputId": "189ad507-5b62-4d9c-8b7f-9bac93299ff2"
      },
      "execution_count": 150,
      "outputs": [
        {
          "output_type": "stream",
          "name": "stdout",
          "text": [
            "{'name': 'Intern Bix', 'age': 3, 'power': 'vanish'}\n",
            "Intern Bix\n",
            "3\n",
            "vanish\n",
            "3\n",
            "list[dict_keys(['name', 'age', 'power'])]\n",
            "list[dict_values(['Intern Bix', 3, 'vanish'])]\n",
            "list[dict_items([('name', 'Intern Bix'), ('age', 3), ('power', 'vanish')])]\n",
            "{'name': 'Intern Bix', 'age': 3, 'power': 'vanish', 'Time': 30}\n",
            "3\n",
            "0\n"
          ]
        },
        {
          "output_type": "execute_result",
          "data": {
            "text/plain": [
              "{'age': 3, 'power': 'vanish', 'Time': 30}"
            ]
          },
          "metadata": {},
          "execution_count": 150
        }
      ]
    },
    {
      "cell_type": "code",
      "source": [
        "my_dict['name'] = 'Intern'\n",
        "# dictionary comprehension\n",
        "\n",
        "for keys, values in my_dict.items():\n",
        "  print(keys, values)\n",
        "\n",
        "print('\\n new_dict\\n')\n",
        "new_dict = {key: value for key, value in my_dict.items()}\n",
        "print(new_dict)\n"
      ],
      "metadata": {
        "colab": {
          "base_uri": "https://localhost:8080/"
        },
        "id": "rCoQH4busANW",
        "outputId": "4e05ad42-3194-47a5-c51e-9f60ec1222e3"
      },
      "execution_count": 159,
      "outputs": [
        {
          "output_type": "stream",
          "name": "stdout",
          "text": [
            "age 3\n",
            "power vanish\n",
            "Time 30\n",
            "name Intern\n",
            "\n",
            "new_dict\n",
            "\n",
            "{'age': 3, 'power': 'vanish', 'Time': 30, 'name': 'Intern'}\n"
          ]
        }
      ]
    },
    {
      "cell_type": "markdown",
      "source": [
        "### Tuple"
      ],
      "metadata": {
        "id": "FLK1AX8aulAk"
      }
    },
    {
      "cell_type": "code",
      "source": [
        "my_tuples = ('pi', 'f-test', 'temp')\n",
        "\n",
        "first, second,  third = my_tuples\n",
        "print(first, second, third)\n",
        "\n",
        "print(len(my_tuples))\n",
        "print(my_tuples[:])\n",
        "\n",
        "\n",
        "print(my_tuples[:-1])\n",
        "print(my_tuples[::-1])"
      ],
      "metadata": {
        "colab": {
          "base_uri": "https://localhost:8080/"
        },
        "id": "CRmqdO5zt3eY",
        "outputId": "d7d858b3-2867-44fb-d827-ed7f9fb076da"
      },
      "execution_count": 165,
      "outputs": [
        {
          "output_type": "stream",
          "name": "stdout",
          "text": [
            "pi f-test temp\n",
            "3\n",
            "('pi', 'f-test', 'temp')\n",
            "('pi', 'f-test')\n",
            "('temp', 'f-test', 'pi')\n"
          ]
        }
      ]
    },
    {
      "cell_type": "markdown",
      "source": [
        "## Set"
      ],
      "metadata": {
        "id": "6gLS4FsFvZx_"
      }
    },
    {
      "cell_type": "code",
      "source": [
        "my_set = set()\n",
        "\n",
        "my_set.add(100)\n",
        "my_set.add(101)\n",
        "\n",
        "\n",
        "my_set.remove(1001) # {1} --> Raises KeyError if element not found\n",
        "my_set.discard(1011) # {1} --> Doesn't raise an error if element not found\n",
        "\n",
        "\n",
        "my_set.clear()"
      ],
      "metadata": {
        "colab": {
          "base_uri": "https://localhost:8080/",
          "height": 211
        },
        "id": "BhEpFfnUvaqs",
        "outputId": "ffbc6ee1-fefb-443d-8345-11b7f0772123"
      },
      "execution_count": 170,
      "outputs": [
        {
          "output_type": "error",
          "ename": "KeyError",
          "evalue": "1001",
          "traceback": [
            "\u001b[0;31m---------------------------------------------------------------------------\u001b[0m",
            "\u001b[0;31mKeyError\u001b[0m                                  Traceback (most recent call last)",
            "\u001b[0;32m<ipython-input-170-be30458e750f>\u001b[0m in \u001b[0;36m<cell line: 7>\u001b[0;34m()\u001b[0m\n\u001b[1;32m      5\u001b[0m \u001b[0;34m\u001b[0m\u001b[0m\n\u001b[1;32m      6\u001b[0m \u001b[0;34m\u001b[0m\u001b[0m\n\u001b[0;32m----> 7\u001b[0;31m \u001b[0mmy_set\u001b[0m\u001b[0;34m.\u001b[0m\u001b[0mremove\u001b[0m\u001b[0;34m(\u001b[0m\u001b[0;36m1001\u001b[0m\u001b[0;34m)\u001b[0m \u001b[0;31m# {1} --> Raises KeyError if element not found\u001b[0m\u001b[0;34m\u001b[0m\u001b[0;34m\u001b[0m\u001b[0m\n\u001b[0m\u001b[1;32m      8\u001b[0m \u001b[0mmy_set\u001b[0m\u001b[0;34m.\u001b[0m\u001b[0mdiscard\u001b[0m\u001b[0;34m(\u001b[0m\u001b[0;36m1011\u001b[0m\u001b[0;34m)\u001b[0m \u001b[0;31m# {1} --> Doesn't raise an error if element not found\u001b[0m\u001b[0;34m\u001b[0m\u001b[0;34m\u001b[0m\u001b[0m\n\u001b[1;32m      9\u001b[0m \u001b[0;34m\u001b[0m\u001b[0m\n",
            "\u001b[0;31mKeyError\u001b[0m: 1001"
          ]
        }
      ]
    },
    {
      "cell_type": "code",
      "source": [
        "set1 = {1,2,3}\n",
        "set2 = {3,4,5}\n",
        "\n",
        "print(set1.union(set2))\n",
        "\n",
        "print(set1.intersection(set2))\n",
        "\n",
        "print(set1.difference(set2))\n",
        "\n",
        "print(set1.symmetric_difference(set2))\n",
        "\n",
        "print(set1.issubset(set2))\n",
        "print(set1.issuperset(set2))\n",
        "print(set1.isdisjoint(set2))"
      ],
      "metadata": {
        "colab": {
          "base_uri": "https://localhost:8080/"
        },
        "id": "bAjQlpLuv8yP",
        "outputId": "813b12ff-4c01-4f2c-abd7-20316f255600"
      },
      "execution_count": 182,
      "outputs": [
        {
          "output_type": "stream",
          "name": "stdout",
          "text": [
            "{1, 2, 3, 4, 5}\n",
            "{3}\n",
            "{1, 2}\n",
            "{1, 2, 4, 5}\n",
            "False\n",
            "False\n",
            "False\n"
          ]
        }
      ]
    },
    {
      "cell_type": "markdown",
      "source": [
        "### Comparision"
      ],
      "metadata": {
        "id": "s1CAH1ZLw1at"
      }
    },
    {
      "cell_type": "code",
      "source": [
        "==                   # equal values\n",
        "!=                   # not equal\n",
        ">                    # left operand is greater than right operand\n",
        "<                    # left operand is less than right operand\n",
        ">=                   # left operand is greater than or equal to right operand\n",
        "<=                   # left operand is less than or equal to right operand\n",
        "<element> is <element> # check if two operands refer to same object in memor"
      ],
      "metadata": {
        "id": "IHnJLZMlw0bZ"
      },
      "execution_count": null,
      "outputs": []
    },
    {
      "cell_type": "code",
      "source": [
        "if <condition that evaluates to boolean>:\n",
        "  # perform action1\n",
        "elif <condition that evaluates to boolean>:\n",
        "  # perform action2\n",
        "else:\n",
        "  # perform action3"
      ],
      "metadata": {
        "id": "FBhMFPSaxBjh"
      },
      "execution_count": null,
      "outputs": []
    }
  ]
}