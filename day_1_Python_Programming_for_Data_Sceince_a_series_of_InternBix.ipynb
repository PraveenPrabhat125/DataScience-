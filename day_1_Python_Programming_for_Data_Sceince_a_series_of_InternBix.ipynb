{
  "nbformat": 4,
  "nbformat_minor": 0,
  "metadata": {
    "colab": {
      "provenance": []
    },
    "kernelspec": {
      "name": "python3",
      "display_name": "Python 3"
    },
    "language_info": {
      "name": "python"
    }
  },
  "cells": [
    {
      "cell_type": "markdown",
      "source": [
        "![internBix logo.png](data:image/png;base64,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)"
      ],
      "metadata": {
        "id": "_1d1z86qTCrn"
      }
    },
    {
      "cell_type": "markdown",
      "source": [
        "**Python Programming**"
      ],
      "metadata": {
        "id": "aFR_C8qkVwx1"
      }
    },
    {
      "cell_type": "markdown",
      "source": [
        "1. Data types and Variables"
      ],
      "metadata": {
        "id": "m0IvcmUkWAe6"
      }
    },
    {
      "cell_type": "code",
      "execution_count": null,
      "metadata": {
        "colab": {
          "base_uri": "https://localhost:8080/"
        },
        "id": "T89gk6BUVr7X",
        "outputId": "64ae780b-1bb1-4a82-84b1-38ef34ac9db1"
      },
      "outputs": [
        {
          "output_type": "stream",
          "name": "stdout",
          "text": [
            "True\n",
            "7\n",
            "7.22\n",
            "InternBix\n"
          ]
        }
      ],
      "source": [
        "#Boolean\n",
        "is_true = True\n",
        "\n",
        "#Integer\n",
        "integer_val = 7\n",
        "\n",
        "# Float\n",
        "float_val = 7.22\n",
        "\n",
        "#String\n",
        "string_val = \"InternBix\"\n",
        "\n",
        "#print(\"use to print\")\n",
        "print(is_true)\n",
        "print(integer_val)\n",
        "print(float_val)\n",
        "print(string_val)"
      ]
    },
    {
      "cell_type": "markdown",
      "source": [
        "**Operation**"
      ],
      "metadata": {
        "id": "6QVshOjfXfs5"
      }
    },
    {
      "cell_type": "markdown",
      "source": [
        "Arithmetic operators"
      ],
      "metadata": {
        "id": "SXgR7U0LXnwC"
      }
    },
    {
      "cell_type": "code",
      "source": [
        "# Arithmetic operators\n",
        "a = 5 + 3\n",
        "b = 10 - 2\n",
        "c = 4 * 2\n",
        "d = 10 / 3\n",
        "e = 5 % 2"
      ],
      "metadata": {
        "id": "3XL476aIXj8i"
      },
      "execution_count": null,
      "outputs": []
    },
    {
      "cell_type": "markdown",
      "source": [
        "Comparison operators\n"
      ],
      "metadata": {
        "id": "VHIzDPrxXqBp"
      }
    },
    {
      "cell_type": "code",
      "source": [
        "result1 = 5 > 3\n",
        "result2 = 10 <= 5\n",
        "result3 = 4 == 4\n",
        "result4 = 2 != 3\n",
        "\n"
      ],
      "metadata": {
        "id": "J0Rx3uxUXtGL"
      },
      "execution_count": null,
      "outputs": []
    },
    {
      "cell_type": "markdown",
      "source": [
        "Logical operators"
      ],
      "metadata": {
        "id": "2O1F5ZrYXvU7"
      }
    },
    {
      "cell_type": "code",
      "source": [
        "result5 = True and False\n",
        "result6 = True or False\n",
        "result7 = not True"
      ],
      "metadata": {
        "id": "8yIc16lIX1aE"
      },
      "execution_count": null,
      "outputs": []
    },
    {
      "cell_type": "markdown",
      "source": [
        "# Flow and loops"
      ],
      "metadata": {
        "id": "vkwcoVG1X3xw"
      }
    },
    {
      "cell_type": "code",
      "source": [
        "var = 10\n",
        "if var > 5:\n",
        "  print('var is greater then 5')\n",
        "else:\n",
        "  print(\"var is lesser then 5\")"
      ],
      "metadata": {
        "colab": {
          "base_uri": "https://localhost:8080/"
        },
        "id": "jqpQQ8aEX9QS",
        "outputId": "dc431c5a-ed94-43a7-edbc-b4ea92e35967"
      },
      "execution_count": null,
      "outputs": [
        {
          "output_type": "stream",
          "name": "stdout",
          "text": [
            "var is greater then 5\n"
          ]
        }
      ]
    },
    {
      "cell_type": "markdown",
      "source": [
        "# For loops"
      ],
      "metadata": {
        "id": "YXeXZaYiYLRP"
      }
    },
    {
      "cell_type": "code",
      "source": [
        "# For loops\n",
        "names = ['John', 'Sen', 'Rock']\n",
        "\n",
        "for name in names:\n",
        "  print(name)"
      ],
      "metadata": {
        "colab": {
          "base_uri": "https://localhost:8080/"
        },
        "id": "gtjw8z5GYKOg",
        "outputId": "613b230f-8947-49be-e44f-ebfa9d73f31b"
      },
      "execution_count": null,
      "outputs": [
        {
          "output_type": "stream",
          "name": "stdout",
          "text": [
            "John\n",
            "Sen\n",
            "Rock\n"
          ]
        }
      ]
    },
    {
      "cell_type": "markdown",
      "source": [
        "# While loop"
      ],
      "metadata": {
        "id": "lfCZwYK6Y39j"
      }
    },
    {
      "cell_type": "code",
      "source": [
        "#while loop\n",
        "count = 0\n",
        "\n",
        "#All even numbers\n",
        "while count < 10:\n",
        "  print(count + 2)\n",
        "  count = count + 2 # this is break statement. which increases at eachiteration\n",
        "\n"
      ],
      "metadata": {
        "colab": {
          "base_uri": "https://localhost:8080/"
        },
        "id": "V_mDAl9fYetT",
        "outputId": "9d04c448-b51b-4927-bb65-6db9a7ea64a6"
      },
      "execution_count": null,
      "outputs": [
        {
          "output_type": "stream",
          "name": "stdout",
          "text": [
            "2\n",
            "4\n",
            "6\n",
            "8\n",
            "10\n"
          ]
        }
      ]
    },
    {
      "cell_type": "markdown",
      "source": [
        "# Function"
      ],
      "metadata": {
        "id": "eX_rachlY9fR"
      }
    },
    {
      "cell_type": "code",
      "source": [
        "# Function Defination\n",
        "def funct(list_val):\n",
        "  for val in list_val:\n",
        "    print(val + 2)\n",
        "\n",
        "\n",
        "# Calling function\n",
        "list_val = [ 2,3,4,5,6]\n",
        "\n",
        "# increase each list value y 2\n",
        "funct(list_val)"
      ],
      "metadata": {
        "colab": {
          "base_uri": "https://localhost:8080/"
        },
        "id": "-CjdQnx4Y3NE",
        "outputId": "082e085d-c4c3-4b5f-9ccf-2c970b37c270"
      },
      "execution_count": null,
      "outputs": [
        {
          "output_type": "stream",
          "name": "stdout",
          "text": [
            "4\n",
            "5\n",
            "6\n",
            "7\n",
            "8\n"
          ]
        }
      ]
    },
    {
      "cell_type": "markdown",
      "source": [
        "#List"
      ],
      "metadata": {
        "id": "bZ8nsmbEZmWI"
      }
    },
    {
      "cell_type": "code",
      "source": [
        "fruits = [\"apple\", \"banana\", \"orange\"]\n",
        "\n",
        "#append to add any new value\n",
        "fruits.append('mango')\n",
        "\n",
        "print(fruits)\n",
        "\n",
        "\n",
        "for items in fruits:\n",
        "  print(items)"
      ],
      "metadata": {
        "colab": {
          "base_uri": "https://localhost:8080/"
        },
        "id": "_h6ZqbadZns7",
        "outputId": "6a185d6c-28a5-4790-d75a-ed4ad086b827"
      },
      "execution_count": null,
      "outputs": [
        {
          "output_type": "stream",
          "name": "stdout",
          "text": [
            "['apple', 'banana', 'orange', 'mango']\n",
            "apple\n",
            "banana\n",
            "orange\n",
            "mango\n"
          ]
        }
      ]
    },
    {
      "cell_type": "markdown",
      "source": [
        "# Dictonary"
      ],
      "metadata": {
        "id": "f742_4GxZ9IJ"
      }
    },
    {
      "cell_type": "code",
      "source": [
        "Employee = {'name': \"Sumit\", \"age\": 23, \"City\": 'Mumbai', 'Role': 'DS'}\n",
        "\n",
        "for items in Employee:\n",
        "  print(items, \": \", Employee[items])"
      ],
      "metadata": {
        "colab": {
          "base_uri": "https://localhost:8080/"
        },
        "id": "YMtwO_3MZ-3f",
        "outputId": "716654c2-7cf9-493d-ddee-f479d94cc3ba"
      },
      "execution_count": null,
      "outputs": [
        {
          "output_type": "stream",
          "name": "stdout",
          "text": [
            "name :  Sumit\n",
            "age :  23\n",
            "City :  Mumbai\n",
            "Role :  DS\n"
          ]
        }
      ]
    },
    {
      "cell_type": "markdown",
      "source": [
        "# String"
      ],
      "metadata": {
        "id": "-yoO_ZYEafzs"
      }
    },
    {
      "cell_type": "code",
      "source": [
        "name = \"Intern Bix\"\n",
        "print(name)\n",
        "\n",
        "print(name[:]) # all element\n",
        "print(name[2:]) # from 2nd element\n",
        "print(name[2:6]) # from 2nd  till 6th element\n",
        "\n"
      ],
      "metadata": {
        "colab": {
          "base_uri": "https://localhost:8080/"
        },
        "id": "wZ_gddZUahag",
        "outputId": "a6326ad4-f63e-44de-db9a-0fba86e79670"
      },
      "execution_count": null,
      "outputs": [
        {
          "output_type": "stream",
          "name": "stdout",
          "text": [
            "Intern Bix\n",
            "Intern Bix\n",
            "tern Bix\n",
            "tern\n"
          ]
        }
      ]
    },
    {
      "cell_type": "markdown",
      "source": [
        "# Input and Output"
      ],
      "metadata": {
        "id": "_Qt5gX4NbPpL"
      }
    },
    {
      "cell_type": "code",
      "source": [
        "io_name = input(\"Enter your name: \")\n",
        "print(\"Welcome, \" + io_name + \" to internBix!\")"
      ],
      "metadata": {
        "colab": {
          "base_uri": "https://localhost:8080/"
        },
        "id": "P2l1TZwUa0Zx",
        "outputId": "5b523fe3-40ce-4d93-867d-bc71d312d2f0"
      },
      "execution_count": null,
      "outputs": [
        {
          "output_type": "stream",
          "name": "stdout",
          "text": [
            "Enter your name: Sumit\n",
            "Welcome, Sumit to internBix!\n"
          ]
        }
      ]
    },
    {
      "cell_type": "markdown",
      "source": [
        "# Error Handeling"
      ],
      "metadata": {
        "id": "7BaptY-YbVAT"
      }
    },
    {
      "cell_type": "code",
      "source": [
        "try:\n",
        "  result = 1/0\n",
        "except ZeroDivisionError:\n",
        "  print(\"Error: can't divide by zero.\")"
      ],
      "metadata": {
        "colab": {
          "base_uri": "https://localhost:8080/"
        },
        "id": "UgeJi9TMbOUA",
        "outputId": "f6e46c83-ac5f-44f8-9be8-f9cd54ce26e4"
      },
      "execution_count": null,
      "outputs": [
        {
          "output_type": "stream",
          "name": "stdout",
          "text": [
            "Error: can't divide by zero.\n"
          ]
        }
      ]
    },
    {
      "cell_type": "code",
      "source": [],
      "metadata": {
        "id": "fV1YpsCKn25_"
      },
      "execution_count": null,
      "outputs": []
    },
    {
      "cell_type": "markdown",
      "source": [
        "# Module and Libraries"
      ],
      "metadata": {
        "id": "MWqGXvszb1J4"
      }
    },
    {
      "cell_type": "code",
      "source": [
        "import math\n",
        "\n",
        "val = math.sqrt(2)\n",
        "print(val)"
      ],
      "metadata": {
        "colab": {
          "base_uri": "https://localhost:8080/"
        },
        "id": "p827ozP6b5Xx",
        "outputId": "e7befc69-12c8-44ca-b320-661b3b3d0f42"
      },
      "execution_count": null,
      "outputs": [
        {
          "output_type": "stream",
          "name": "stdout",
          "text": [
            "1.4142135623730951\n"
          ]
        }
      ]
    },
    {
      "cell_type": "markdown",
      "source": [
        "List of operation from the math library"
      ],
      "metadata": {
        "id": "PxmMtNUacQJJ"
      }
    },
    {
      "cell_type": "code",
      "source": [
        "import math\n",
        "\n",
        "# Trigonometric Functions\n",
        "angle = math.pi/4\n",
        "sin_value = math.sin(angle)\n",
        "cos_value = math.cos(angle)\n",
        "tan_value = math.tan(angle)\n",
        "\n",
        "print(\"sin:\", sin_value)\n",
        "print(\"cos:\", cos_value)\n",
        "print(\"tan:\", tan_value)\n",
        "\n",
        "# Exponential and Logarithmic Functions\n",
        "x = 2\n",
        "exp_value = math.exp(x)\n",
        "log_value = math.log(x)\n",
        "log10_value = math.log10(x)\n",
        "\n",
        "print(\"exp:\", exp_value)\n",
        "print(\"log:\", log_value)\n",
        "print(\"log10:\", log10_value)\n",
        "\n",
        "# Mathematical Constants\n",
        "print(\"pi:\", math.pi)\n",
        "print(\"e:\", math.e)\n",
        "\n",
        "# Other Mathematical Operations\n",
        "sqrt_value = math.sqrt(16)\n",
        "ceil_value = math.ceil(3.7)\n",
        "floor_value = math.floor(3.7)\n",
        "factorial_value = math.factorial(5)\n",
        "\n",
        "print(\"sqrt:\", sqrt_value)\n",
        "print(\"ceil:\", ceil_value)\n",
        "print(\"floor:\", floor_value)\n",
        "print(\"factorial:\", factorial_value)\n"
      ],
      "metadata": {
        "colab": {
          "base_uri": "https://localhost:8080/"
        },
        "id": "3gCwHBmDcRpq",
        "outputId": "58ae77e2-5907-4f3b-c347-adde43d87c42"
      },
      "execution_count": null,
      "outputs": [
        {
          "output_type": "stream",
          "name": "stdout",
          "text": [
            "sin: 0.7071067811865475\n",
            "cos: 0.7071067811865476\n",
            "tan: 0.9999999999999999\n",
            "exp: 7.38905609893065\n",
            "log: 0.6931471805599453\n",
            "log10: 0.3010299956639812\n",
            "pi: 3.141592653589793\n",
            "e: 2.718281828459045\n",
            "sqrt: 4.0\n",
            "ceil: 4\n",
            "floor: 3\n",
            "factorial: 120\n"
          ]
        }
      ]
    }
  ]
}